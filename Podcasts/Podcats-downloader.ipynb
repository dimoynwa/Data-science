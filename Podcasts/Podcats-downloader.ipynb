{
 "cells": [
  {
   "cell_type": "markdown",
   "id": "be8a2410",
   "metadata": {},
   "source": [
    "## Import libraries"
   ]
  },
  {
   "cell_type": "code",
   "execution_count": null,
   "id": "243ba703",
   "metadata": {},
   "outputs": [],
   "source": [
    "!pip install beautifulsoup4\n",
    "!pip install requests\n",
    "!pip install lxml"
   ]
  },
  {
   "cell_type": "code",
   "execution_count": null,
   "id": "693713af",
   "metadata": {},
   "outputs": [],
   "source": [
    "from bs4 import BeautifulSoup\n",
    "import requests\n",
    "import os\n",
    "import re"
   ]
  },
  {
   "cell_type": "code",
   "execution_count": null,
   "id": "9cfba29d",
   "metadata": {},
   "outputs": [],
   "source": [
    "# For the sake of tests we will use a podcast with shorter duration (only 3 minutes)\n",
    "rss_feed_url = 'https://feeds.buzzsprout.com/1829765.rss'\n",
    "\n",
    "# Page content from Website URL\n",
    "page = requests.get( rss_feed_url )\n",
    "  \n",
    "# parse html content\n",
    "soup = BeautifulSoup( page.content , 'html.parser')"
   ]
  },
  {
   "cell_type": "code",
   "execution_count": null,
   "id": "18750c12",
   "metadata": {},
   "outputs": [],
   "source": [
    "print(soup.prettify())"
   ]
  },
  {
   "cell_type": "code",
   "execution_count": null,
   "id": "35918125",
   "metadata": {},
   "outputs": [],
   "source": [
    "# Get all items\n",
    "items = soup.find_all('item')\n",
    "print('Found', len(items), 'items.')"
   ]
  },
  {
   "cell_type": "code",
   "execution_count": null,
   "id": "af553194",
   "metadata": {},
   "outputs": [],
   "source": [
    "ep_desc = items[0].find('enclosure')['url']\n",
    "print(ep_desc)"
   ]
  },
  {
   "cell_type": "code",
   "execution_count": null,
   "id": "8c0a3b48",
   "metadata": {},
   "outputs": [],
   "source": []
  },
  {
   "cell_type": "code",
   "execution_count": null,
   "id": "fc874707",
   "metadata": {},
   "outputs": [],
   "source": [
    "try:\n",
    "    os.mkdir('downloads')\n",
    "except FileExistsError:\n",
    "    print('Folder /downloads already exists.')"
   ]
  },
  {
   "cell_type": "code",
   "execution_count": null,
   "id": "cc480a86",
   "metadata": {},
   "outputs": [],
   "source": [
    "def download_and_save(url, filename):\n",
    "    mp3 = requests.get(url)\n",
    "    with open(filename, 'wb') as f:\n",
    "        f.write(mp3.content)\n",
    "        \n",
    "download_and_save(items[0].find('enclosure')['url'], 'downloads/first_i.mp3')"
   ]
  },
  {
   "cell_type": "code",
   "execution_count": null,
   "id": "996503c3",
   "metadata": {},
   "outputs": [],
   "source": [
    "count, limit = 0, 10\n",
    "\n",
    "for item in items:\n",
    "    title = item.find('title').text\n",
    "    url = item.find('enclosure')['url']\n",
    "    description = item.find('description').text\n",
    "    \n",
    "    if re.search('.*', description, re.I):\n",
    "        print('Title:', title)\n",
    "        download_and_save(url, 'downloads/'+title+'.mp3')\n",
    "        print('Downoloaded ', title)\n",
    "        count += 1\n",
    "        if count == limit:\n",
    "            break"
   ]
  },
  {
   "cell_type": "markdown",
   "id": "4ec6d9e1",
   "metadata": {},
   "source": [
    "## Transcribe a podcast"
   ]
  },
  {
   "cell_type": "code",
   "execution_count": null,
   "id": "5c57e1ec",
   "metadata": {},
   "outputs": [],
   "source": [
    "!pip install boto3"
   ]
  },
  {
   "cell_type": "markdown",
   "id": "923f4c06",
   "metadata": {},
   "source": [
    "## Reading creadentials. You should have file named aws_credentials.json in the same directory"
   ]
  },
  {
   "cell_type": "code",
   "execution_count": null,
   "id": "90ad79fa",
   "metadata": {},
   "outputs": [],
   "source": [
    "import json\n",
    "\n",
    "with open('aws_credentials.json', 'r') as f:\n",
    "    credentials = json.load(f)\n",
    "\n",
    "ACCESS_KEY = credentials['aws_key']\n",
    "SECRET_ACCESS_KEY = credentials['aws_secret_key']\n",
    "REGION = credentials['aws_region']\n",
    "BUCKET_NAME = credentials['aws_s3_bucket_name']\n",
    "    \n",
    "# print('ACCESS_KEY', ACCESS_KEY)\n",
    "# print('SECRET_ACCESS_KEY', SECRET_ACCESS_KEY)\n",
    "# print('REGION', REGION)\n",
    "# print('BUCKET_NAME', BUCKET_NAME)"
   ]
  },
  {
   "cell_type": "markdown",
   "id": "fd1248ba",
   "metadata": {},
   "source": [
    "## Upload files to AWS S3"
   ]
  },
  {
   "cell_type": "code",
   "execution_count": null,
   "id": "3aa2755e",
   "metadata": {},
   "outputs": [],
   "source": [
    "import boto3\n",
    "from botocore.exceptions import ClientError"
   ]
  },
  {
   "cell_type": "markdown",
   "id": "89ddf8ed",
   "metadata": {},
   "source": [
    "## Create s3 client"
   ]
  },
  {
   "cell_type": "code",
   "execution_count": null,
   "id": "cdcfc418",
   "metadata": {},
   "outputs": [],
   "source": [
    "s3_client = boto3.client('s3',\n",
    "    aws_access_key_id = ACCESS_KEY, #access key ID,\n",
    "    aws_secret_access_key = SECRET_ACCESS_KEY, # secret access key\n",
    "    region_name = REGION)# region: \"eu-central-1\""
   ]
  },
  {
   "cell_type": "code",
   "execution_count": null,
   "id": "74cf2463",
   "metadata": {},
   "outputs": [],
   "source": [
    "def create_bucket(s3_client, bucket_name, region=None):\n",
    "    buckets_response = s3_client.list_buckets()\n",
    "    for bucket in buckets_response['Buckets']:\n",
    "        if bucket['Name'] == bucket_name:\n",
    "            print('Bucket with name', bucket_name, 'already exists. Skip creating')\n",
    "            return True\n",
    "    try:\n",
    "        if region is None:\n",
    "            s3_client.create_bucket(Bucket=bucket_name)\n",
    "        else:\n",
    "            location = {'LocationConstraint': region}\n",
    "            s3_client.create_bucket(Bucket=bucket_name,\n",
    "                                    CreateBucketConfiguration=location)\n",
    "    except ClientError as e:\n",
    "        print('Error creating bucket', e)\n",
    "        return False\n",
    "    return True"
   ]
  },
  {
   "cell_type": "code",
   "execution_count": null,
   "id": "acb7c4cf",
   "metadata": {},
   "outputs": [],
   "source": [
    "response = s3_client.list_buckets()\n",
    "\n",
    "# Output the bucket names\n",
    "print('Existing buckets:')\n",
    "for bucket in response['Buckets']:\n",
    "    print(f'  {bucket[\"Name\"]}')"
   ]
  },
  {
   "cell_type": "code",
   "execution_count": null,
   "id": "84225d84",
   "metadata": {},
   "outputs": [],
   "source": [
    "create_bucket(s3_client, BUCKET_NAME, region=REGION)"
   ]
  },
  {
   "cell_type": "markdown",
   "id": "34a45de4",
   "metadata": {},
   "source": [
    "## Add all files from the downloads folder to the bucket"
   ]
  },
  {
   "cell_type": "code",
   "execution_count": null,
   "id": "aad0caf2",
   "metadata": {},
   "outputs": [],
   "source": [
    "def upload_file(s3_client, file_name, bucket, object_name=None):\n",
    "    if object_name is None:\n",
    "        object_name = os.path.basename(file_name)\n",
    "\n",
    "    # Upload the file\n",
    "    try:\n",
    "        response = s3_client.upload_file(file_name, bucket, object_name)\n",
    "    except ClientError as e:\n",
    "        print('ERROR uploading file', file_name, 'to bucket', bucket, e)\n",
    "        return False\n",
    "    return True"
   ]
  },
  {
   "cell_type": "code",
   "execution_count": null,
   "id": "0e75c3c8",
   "metadata": {},
   "outputs": [],
   "source": [
    "def modify_file_name(filename):\n",
    "    modified_file_name = filename.replace(' ', '-').replace(':', '')\n",
    "    modified_file_name = modified_file_name.lower()\n",
    "    return modified_file_name\n",
    "\n",
    "for filename in os.listdir('downloads/'):\n",
    "    print(modify_file_name(filename))"
   ]
  },
  {
   "cell_type": "code",
   "execution_count": null,
   "id": "23f2179e",
   "metadata": {},
   "outputs": [],
   "source": [
    "import pathlib\n",
    "\n",
    "for filename in os.listdir('downloads/'):\n",
    "    f = os.path.join('downloads/', filename)\n",
    "    # checking if it is a file\n",
    "    if pathlib.Path(filename).suffix != '.mp3':\n",
    "        print('Not a mp3 file', filename)\n",
    "        continue\n",
    "    if not os.path.isfile(f):\n",
    "        print('Skip not a file', filename)\n",
    "        continue\n",
    "    modified_file_name = modify_file_name(filename)\n",
    "    print('Uploading ', modified_file_name)\n",
    "    upload_file(s3_client, f, BUCKET_NAME, modified_file_name)"
   ]
  },
  {
   "cell_type": "markdown",
   "id": "c68883d1",
   "metadata": {},
   "source": [
    "## Transcribe a mp3 file from S3 bucket"
   ]
  },
  {
   "cell_type": "code",
   "execution_count": null,
   "id": "09dc9f83",
   "metadata": {},
   "outputs": [],
   "source": [
    "import time\n",
    "\n",
    "def amazon_transcribe(transcribe, filename, bucket):\n",
    "    file_uri = 's3://' + bucket + '/' + filename\n",
    "    print('Going to transcribe file from ', file_uri)\n",
    "    job_name = 'transcribeDimo' + str(round(time.time()*1000))\n",
    "    file_format = filename.split('.')[-1]\n",
    "    transcribe.start_transcription_job(\n",
    "        TranscriptionJobName=job_name,\n",
    "        Media={'MediaFileUri': file_uri},\n",
    "        MediaFormat = file_format,\n",
    "        LanguageCode='en-US')\n",
    "    while True:\n",
    "        result = transcribe.get_transcription_job(TranscriptionJobName=job_name)\n",
    "        status = result['TranscriptionJob']['TranscriptionJobStatus']\n",
    "        print('Status: ', status)\n",
    "        if status == 'FAILED':\n",
    "            print('Job with name ', job_name, 'failed', result)\n",
    "            return\n",
    "        if status == 'COMPLETED':\n",
    "            print('Job ends with status COMPLETED')\n",
    "            return result['TranscriptionJob']['Transcript']['TranscriptFileUri']\n",
    "        time.sleep(10)"
   ]
  },
  {
   "cell_type": "code",
   "execution_count": null,
   "id": "0e4c4605",
   "metadata": {},
   "outputs": [],
   "source": [
    "transcribe = boto3.client('transcribe',\n",
    "    aws_access_key_id = ACCESS_KEY, #access key ID,\n",
    "    aws_secret_access_key = SECRET_ACCESS_KEY, # secret access key\n",
    "    region_name = REGION)# region: \"eu-central-1\""
   ]
  },
  {
   "cell_type": "code",
   "execution_count": null,
   "id": "45157193",
   "metadata": {},
   "outputs": [],
   "source": [
    "# first_file_name = modify_file_name(os.listdir('downloads/')[0])\n",
    "import pandas as pd\n",
    "\n",
    "def get_transcription(transcribe, filename, bucket_name):\n",
    "    file_transcription_uri = amazon_transcribe(transcribe, filename, bucket_name)\n",
    "    if file_transcription_uri:\n",
    "        print('File transcription URI:', file_transcription_uri)\n",
    "        return pd.read_json(file_transcription_uri)\n",
    "        \n",
    "        \n",
    "file_transcription = get_transcription(transcribe, 'Paul-Rosenberg.mp3', BUCKET_NAME)\n",
    "file_transcription"
   ]
  },
  {
   "cell_type": "code",
   "execution_count": null,
   "id": "b4ed89c6",
   "metadata": {},
   "outputs": [],
   "source": [
    "job_name = file_transcription['jobName'][0]\n",
    "file_transcription.to_json('downloads/' + job_name + '.json', indent=2)"
   ]
  },
  {
   "cell_type": "markdown",
   "id": "0c50533f",
   "metadata": {},
   "source": [
    "## Process all .mp3 files "
   ]
  },
  {
   "cell_type": "code",
   "execution_count": null,
   "id": "5e7ca730",
   "metadata": {},
   "outputs": [],
   "source": [
    "for filename in os.listdir('downloads/'):\n",
    "    f = os.path.join('downloads/', filename)\n",
    "    # checking if it is a file\n",
    "    if pathlib.Path(filename).suffix != '.mp3':\n",
    "        print('Not a mp3 file', filename)\n",
    "        continue\n",
    "    if not os.path.isfile(f):\n",
    "        print('Skip not a file', filename)\n",
    "        continue\n",
    "    modified_file_name = modify_file_name(filename)\n",
    "    print('Transcripting ', modified_file_name)\n",
    "    file_transcription = get_transcription(transcribe, modified_file_name, BUCKET_NAME)\n",
    "    if file_transcription:\n",
    "        job_name = file_transcription['jobName'][0]\n",
    "        file_transcription.to_json('downloads/' + job_name + '.json', indent=2)"
   ]
  },
  {
   "cell_type": "code",
   "execution_count": null,
   "id": "17e9807b",
   "metadata": {},
   "outputs": [],
   "source": []
  },
  {
   "cell_type": "code",
   "execution_count": null,
   "id": "f75f52ae",
   "metadata": {},
   "outputs": [],
   "source": []
  }
 ],
 "metadata": {
  "kernelspec": {
   "display_name": "Python 3 (ipykernel)",
   "language": "python",
   "name": "python3"
  },
  "language_info": {
   "codemirror_mode": {
    "name": "ipython",
    "version": 3
   },
   "file_extension": ".py",
   "mimetype": "text/x-python",
   "name": "python",
   "nbconvert_exporter": "python",
   "pygments_lexer": "ipython3",
   "version": "3.9.13"
  }
 },
 "nbformat": 4,
 "nbformat_minor": 5
}
